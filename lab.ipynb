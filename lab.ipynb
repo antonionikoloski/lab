{
 "cells": [
  {
   "cell_type": "markdown",
   "id": "555ce0ab",
   "metadata": {},
   "source": [
    "# LAB WORK BY ANTONIO NIKOLOSKI\n"
   ]
  },
  {
   "cell_type": "raw",
   "id": "545cb633",
   "metadata": {},
   "source": [
    "a)Creating lists and numpy arrays"
   ]
  },
  {
   "cell_type": "code",
   "execution_count": 2,
   "id": "1838a7af",
   "metadata": {},
   "outputs": [
    {
     "name": "stdout",
     "output_type": "stream",
     "text": [
      "[3, 1, 2] 3\n",
      "2\n"
     ]
    }
   ],
   "source": [
    "lista = [3, 1, 2]   # Create a list\n",
    "print (lista, lista[0])\n",
    "print (lista[-1] )"
   ]
  },
  {
   "cell_type": "code",
   "execution_count": 3,
   "id": "380d991a",
   "metadata": {},
   "outputs": [],
   "source": [
    "import numpy as np\n"
   ]
  },
  {
   "cell_type": "code",
   "execution_count": 4,
   "id": "d7e829b9",
   "metadata": {},
   "outputs": [],
   "source": [
    "pomosna = np.array([2, 2, 3])"
   ]
  },
  {
   "cell_type": "raw",
   "id": "c79235af",
   "metadata": {},
   "source": [
    "b)Converting lists to numpy arrays"
   ]
  },
  {
   "cell_type": "code",
   "execution_count": 5,
   "id": "539617a6",
   "metadata": {},
   "outputs": [
    {
     "name": "stdout",
     "output_type": "stream",
     "text": [
      "[3, 1, 2]\n"
     ]
    }
   ],
   "source": [
    "niza = np.array(lista)\n",
    "print (lista)"
   ]
  },
  {
   "cell_type": "raw",
   "id": "f10692a6",
   "metadata": {},
   "source": [
    "c)Reading CSV file"
   ]
  },
  {
   "cell_type": "code",
   "execution_count": 17,
   "id": "5b098093",
   "metadata": {
    "scrolled": true
   },
   "outputs": [
    {
     "data": {
      "text/html": [
       "<div>\n",
       "<style scoped>\n",
       "    .dataframe tbody tr th:only-of-type {\n",
       "        vertical-align: middle;\n",
       "    }\n",
       "\n",
       "    .dataframe tbody tr th {\n",
       "        vertical-align: top;\n",
       "    }\n",
       "\n",
       "    .dataframe thead th {\n",
       "        text-align: right;\n",
       "    }\n",
       "</style>\n",
       "<table border=\"1\" class=\"dataframe\">\n",
       "  <thead>\n",
       "    <tr style=\"text-align: right;\">\n",
       "      <th></th>\n",
       "      <th>county</th>\n",
       "      <th>eq_site_limit</th>\n",
       "      <th>hu_site_limit</th>\n",
       "      <th>point_latitude</th>\n",
       "      <th>point_longitude</th>\n",
       "      <th>line</th>\n",
       "      <th>construction</th>\n",
       "      <th>point_granularity</th>\n",
       "    </tr>\n",
       "  </thead>\n",
       "  <tbody>\n",
       "    <tr>\n",
       "      <th>0</th>\n",
       "      <td>CLAY COUNTY</td>\n",
       "      <td>498960.0</td>\n",
       "      <td>498960.00</td>\n",
       "      <td>30.102261</td>\n",
       "      <td>-81.711777</td>\n",
       "      <td>Residential</td>\n",
       "      <td>Masonry</td>\n",
       "      <td>1</td>\n",
       "    </tr>\n",
       "    <tr>\n",
       "      <th>1</th>\n",
       "      <td>CLAY COUNTY</td>\n",
       "      <td>1322376.3</td>\n",
       "      <td>1322376.30</td>\n",
       "      <td>30.063936</td>\n",
       "      <td>-81.707664</td>\n",
       "      <td>Residential</td>\n",
       "      <td>Masonry</td>\n",
       "      <td>3</td>\n",
       "    </tr>\n",
       "    <tr>\n",
       "      <th>2</th>\n",
       "      <td>CLAY COUNTY</td>\n",
       "      <td>190724.4</td>\n",
       "      <td>190724.40</td>\n",
       "      <td>30.089579</td>\n",
       "      <td>-81.700455</td>\n",
       "      <td>Residential</td>\n",
       "      <td>Wood</td>\n",
       "      <td>1</td>\n",
       "    </tr>\n",
       "    <tr>\n",
       "      <th>3</th>\n",
       "      <td>CLAY COUNTY</td>\n",
       "      <td>0.0</td>\n",
       "      <td>79520.76</td>\n",
       "      <td>30.063236</td>\n",
       "      <td>-81.707703</td>\n",
       "      <td>Residential</td>\n",
       "      <td>Wood</td>\n",
       "      <td>3</td>\n",
       "    </tr>\n",
       "    <tr>\n",
       "      <th>4</th>\n",
       "      <td>CLAY COUNTY</td>\n",
       "      <td>0.0</td>\n",
       "      <td>254281.50</td>\n",
       "      <td>30.060614</td>\n",
       "      <td>-81.702675</td>\n",
       "      <td>Residential</td>\n",
       "      <td>Wood</td>\n",
       "      <td>1</td>\n",
       "    </tr>\n",
       "  </tbody>\n",
       "</table>\n",
       "</div>"
      ],
      "text/plain": [
       "        county  eq_site_limit  hu_site_limit  point_latitude  point_longitude  \\\n",
       "0  CLAY COUNTY       498960.0      498960.00       30.102261       -81.711777   \n",
       "1  CLAY COUNTY      1322376.3     1322376.30       30.063936       -81.707664   \n",
       "2  CLAY COUNTY       190724.4      190724.40       30.089579       -81.700455   \n",
       "3  CLAY COUNTY            0.0       79520.76       30.063236       -81.707703   \n",
       "4  CLAY COUNTY            0.0      254281.50       30.060614       -81.702675   \n",
       "\n",
       "          line construction  point_granularity  \n",
       "0  Residential      Masonry                  1  \n",
       "1  Residential      Masonry                  3  \n",
       "2  Residential         Wood                  1  \n",
       "3  Residential         Wood                  3  \n",
       "4  Residential         Wood                  1  "
      ]
     },
     "execution_count": 17,
     "metadata": {},
     "output_type": "execute_result"
    }
   ],
   "source": [
    "import pandas as pd\n",
    "podatoci = pd.read_csv(\"/home/antonio/Downloads/10.csv\")\n",
    "podatoci.head()"
   ]
  },
  {
   "cell_type": "code",
   "execution_count": 9,
   "id": "bd69afac",
   "metadata": {},
   "outputs": [],
   "source": [
    "podatoci.drop('construction', inplace=True, axis=1)"
   ]
  },
  {
   "cell_type": "code",
   "execution_count": 10,
   "id": "be39ab28",
   "metadata": {
    "collapsed": true
   },
   "outputs": [
    {
     "name": "stdout",
     "output_type": "stream",
     "text": [
      "                county  eq_site_limit  hu_site_limit  point_latitude  \\\n",
      "0          CLAY COUNTY       498960.0      498960.00       30.102261   \n",
      "1          CLAY COUNTY      1322376.3     1322376.30       30.063936   \n",
      "2          CLAY COUNTY       190724.4      190724.40       30.089579   \n",
      "3          CLAY COUNTY            0.0       79520.76       30.063236   \n",
      "4          CLAY COUNTY            0.0      254281.50       30.060614   \n",
      "...                ...            ...            ...             ...   \n",
      "1171  ST  JOHNS COUNTY     14580000.0    14580000.00       29.903500   \n",
      "1172  ST  JOHNS COUNTY        43407.0       43407.00       29.903500   \n",
      "1173  ST  JOHNS COUNTY         7668.0        7668.00       29.903500   \n",
      "1174  ST  JOHNS COUNTY         6705.0        6705.00       29.903500   \n",
      "1175  ST  JOHNS COUNTY         6705.0        6705.00       29.903500   \n",
      "\n",
      "      point_longitude         line  point_granularity  \n",
      "0          -81.711777  Residential                  1  \n",
      "1          -81.707664  Residential                  3  \n",
      "2          -81.700455  Residential                  1  \n",
      "3          -81.707703  Residential                  3  \n",
      "4          -81.702675  Residential                  1  \n",
      "...               ...          ...                ...  \n",
      "1171       -81.334900   Commercial                  4  \n",
      "1172       -81.334900  Residential                  4  \n",
      "1173       -81.334900  Residential                  4  \n",
      "1174       -81.334900  Residential                  4  \n",
      "1175       -81.334900  Residential                  4  \n",
      "\n",
      "[1176 rows x 7 columns]\n"
     ]
    }
   ],
   "source": [
    "print(podatoci)"
   ]
  },
  {
   "cell_type": "code",
   "execution_count": 11,
   "id": "d37b0dc7",
   "metadata": {},
   "outputs": [],
   "source": [
    "podatoci = podatoci.iloc[:-1]"
   ]
  },
  {
   "cell_type": "code",
   "execution_count": 12,
   "id": "99b179df",
   "metadata": {},
   "outputs": [
    {
     "name": "stdout",
     "output_type": "stream",
     "text": [
      "                county  eq_site_limit  hu_site_limit  point_latitude  \\\n",
      "0          CLAY COUNTY       498960.0      498960.00       30.102261   \n",
      "1          CLAY COUNTY      1322376.3     1322376.30       30.063936   \n",
      "2          CLAY COUNTY       190724.4      190724.40       30.089579   \n",
      "3          CLAY COUNTY            0.0       79520.76       30.063236   \n",
      "4          CLAY COUNTY            0.0      254281.50       30.060614   \n",
      "...                ...            ...            ...             ...   \n",
      "1170  ST  JOHNS COUNTY        20043.0       20043.00       29.890684   \n",
      "1171  ST  JOHNS COUNTY     14580000.0    14580000.00       29.903500   \n",
      "1172  ST  JOHNS COUNTY        43407.0       43407.00       29.903500   \n",
      "1173  ST  JOHNS COUNTY         7668.0        7668.00       29.903500   \n",
      "1174  ST  JOHNS COUNTY         6705.0        6705.00       29.903500   \n",
      "\n",
      "      point_longitude         line  point_granularity  \n",
      "0          -81.711777  Residential                  1  \n",
      "1          -81.707664  Residential                  3  \n",
      "2          -81.700455  Residential                  1  \n",
      "3          -81.707703  Residential                  3  \n",
      "4          -81.702675  Residential                  1  \n",
      "...               ...          ...                ...  \n",
      "1170       -81.318993  Residential                  3  \n",
      "1171       -81.334900   Commercial                  4  \n",
      "1172       -81.334900  Residential                  4  \n",
      "1173       -81.334900  Residential                  4  \n",
      "1174       -81.334900  Residential                  4  \n",
      "\n",
      "[1175 rows x 7 columns]\n"
     ]
    }
   ],
   "source": [
    "print(podatoci)"
   ]
  },
  {
   "cell_type": "code",
   "execution_count": 13,
   "id": "5d364847",
   "metadata": {},
   "outputs": [],
   "source": [
    "podatoci=podatoci.iloc[3:10]"
   ]
  },
  {
   "cell_type": "code",
   "execution_count": 14,
   "id": "80f376f7",
   "metadata": {},
   "outputs": [
    {
     "name": "stdout",
     "output_type": "stream",
     "text": [
      "        county  eq_site_limit  hu_site_limit  point_latitude  point_longitude  \\\n",
      "3  CLAY COUNTY            0.0       79520.76       30.063236       -81.707703   \n",
      "4  CLAY COUNTY            0.0      254281.50       30.060614       -81.702675   \n",
      "5  CLAY COUNTY            0.0      515035.62       30.063236       -81.707703   \n",
      "6  CLAY COUNTY            0.0    19260000.00       30.102226       -81.713882   \n",
      "7  CLAY COUNTY       328500.0      328500.00       30.102217       -81.707146   \n",
      "8  CLAY COUNTY       315000.0      315000.00       30.118774       -81.704613   \n",
      "9  CLAY COUNTY       705600.0      705600.00       30.100628       -81.703751   \n",
      "\n",
      "          line  point_granularity  \n",
      "3  Residential                  3  \n",
      "4  Residential                  1  \n",
      "5  Residential                  3  \n",
      "6   Commercial                  1  \n",
      "7  Residential                  1  \n",
      "8  Residential                  1  \n",
      "9  Residential                  1  \n"
     ]
    }
   ],
   "source": [
    "print(podatoci)"
   ]
  },
  {
   "cell_type": "raw",
   "id": "e85780f4",
   "metadata": {},
   "source": [
    "e)Visualisation of the data\n"
   ]
  },
  {
   "cell_type": "code",
   "execution_count": 40,
   "id": "48ec93f1",
   "metadata": {},
   "outputs": [],
   "source": [
    "import matplotlib.pyplot as plt"
   ]
  },
  {
   "cell_type": "code",
   "execution_count": 16,
   "id": "0637c2bf",
   "metadata": {},
   "outputs": [
    {
     "data": {
      "text/html": [
       "<div>\n",
       "<style scoped>\n",
       "    .dataframe tbody tr th:only-of-type {\n",
       "        vertical-align: middle;\n",
       "    }\n",
       "\n",
       "    .dataframe tbody tr th {\n",
       "        vertical-align: top;\n",
       "    }\n",
       "\n",
       "    .dataframe thead th {\n",
       "        text-align: right;\n",
       "    }\n",
       "</style>\n",
       "<table border=\"1\" class=\"dataframe\">\n",
       "  <thead>\n",
       "    <tr style=\"text-align: right;\">\n",
       "      <th></th>\n",
       "      <th>county</th>\n",
       "      <th>eq_site_limit</th>\n",
       "      <th>hu_site_limit</th>\n",
       "      <th>point_latitude</th>\n",
       "      <th>point_longitude</th>\n",
       "      <th>line</th>\n",
       "      <th>point_granularity</th>\n",
       "    </tr>\n",
       "  </thead>\n",
       "  <tbody>\n",
       "    <tr>\n",
       "      <th>3</th>\n",
       "      <td>CLAY COUNTY</td>\n",
       "      <td>0.0</td>\n",
       "      <td>79520.76</td>\n",
       "      <td>30.063236</td>\n",
       "      <td>-81.707703</td>\n",
       "      <td>Residential</td>\n",
       "      <td>3</td>\n",
       "    </tr>\n",
       "    <tr>\n",
       "      <th>4</th>\n",
       "      <td>CLAY COUNTY</td>\n",
       "      <td>0.0</td>\n",
       "      <td>254281.50</td>\n",
       "      <td>30.060614</td>\n",
       "      <td>-81.702675</td>\n",
       "      <td>Residential</td>\n",
       "      <td>1</td>\n",
       "    </tr>\n",
       "    <tr>\n",
       "      <th>5</th>\n",
       "      <td>CLAY COUNTY</td>\n",
       "      <td>0.0</td>\n",
       "      <td>515035.62</td>\n",
       "      <td>30.063236</td>\n",
       "      <td>-81.707703</td>\n",
       "      <td>Residential</td>\n",
       "      <td>3</td>\n",
       "    </tr>\n",
       "    <tr>\n",
       "      <th>6</th>\n",
       "      <td>CLAY COUNTY</td>\n",
       "      <td>0.0</td>\n",
       "      <td>19260000.00</td>\n",
       "      <td>30.102226</td>\n",
       "      <td>-81.713882</td>\n",
       "      <td>Commercial</td>\n",
       "      <td>1</td>\n",
       "    </tr>\n",
       "    <tr>\n",
       "      <th>7</th>\n",
       "      <td>CLAY COUNTY</td>\n",
       "      <td>328500.0</td>\n",
       "      <td>328500.00</td>\n",
       "      <td>30.102217</td>\n",
       "      <td>-81.707146</td>\n",
       "      <td>Residential</td>\n",
       "      <td>1</td>\n",
       "    </tr>\n",
       "  </tbody>\n",
       "</table>\n",
       "</div>"
      ],
      "text/plain": [
       "        county  eq_site_limit  hu_site_limit  point_latitude  point_longitude  \\\n",
       "3  CLAY COUNTY            0.0       79520.76       30.063236       -81.707703   \n",
       "4  CLAY COUNTY            0.0      254281.50       30.060614       -81.702675   \n",
       "5  CLAY COUNTY            0.0      515035.62       30.063236       -81.707703   \n",
       "6  CLAY COUNTY            0.0    19260000.00       30.102226       -81.713882   \n",
       "7  CLAY COUNTY       328500.0      328500.00       30.102217       -81.707146   \n",
       "\n",
       "          line  point_granularity  \n",
       "3  Residential                  3  \n",
       "4  Residential                  1  \n",
       "5  Residential                  3  \n",
       "6   Commercial                  1  \n",
       "7  Residential                  1  "
      ]
     },
     "execution_count": 16,
     "metadata": {},
     "output_type": "execute_result"
    }
   ],
   "source": [
    "podatoci.head()"
   ]
  },
  {
   "cell_type": "code",
   "execution_count": 21,
   "id": "e227dcd3",
   "metadata": {},
   "outputs": [],
   "source": [
    "pom=podatoci[0:3]"
   ]
  },
  {
   "cell_type": "code",
   "execution_count": 22,
   "id": "3382283c",
   "metadata": {},
   "outputs": [
    {
     "data": {
      "text/html": [
       "<div>\n",
       "<style scoped>\n",
       "    .dataframe tbody tr th:only-of-type {\n",
       "        vertical-align: middle;\n",
       "    }\n",
       "\n",
       "    .dataframe tbody tr th {\n",
       "        vertical-align: top;\n",
       "    }\n",
       "\n",
       "    .dataframe thead th {\n",
       "        text-align: right;\n",
       "    }\n",
       "</style>\n",
       "<table border=\"1\" class=\"dataframe\">\n",
       "  <thead>\n",
       "    <tr style=\"text-align: right;\">\n",
       "      <th></th>\n",
       "      <th>county</th>\n",
       "      <th>eq_site_limit</th>\n",
       "      <th>hu_site_limit</th>\n",
       "      <th>point_latitude</th>\n",
       "      <th>point_longitude</th>\n",
       "      <th>line</th>\n",
       "      <th>construction</th>\n",
       "      <th>point_granularity</th>\n",
       "    </tr>\n",
       "  </thead>\n",
       "  <tbody>\n",
       "    <tr>\n",
       "      <th>0</th>\n",
       "      <td>CLAY COUNTY</td>\n",
       "      <td>498960.0</td>\n",
       "      <td>498960.0</td>\n",
       "      <td>30.102261</td>\n",
       "      <td>-81.711777</td>\n",
       "      <td>Residential</td>\n",
       "      <td>Masonry</td>\n",
       "      <td>1</td>\n",
       "    </tr>\n",
       "    <tr>\n",
       "      <th>1</th>\n",
       "      <td>CLAY COUNTY</td>\n",
       "      <td>1322376.3</td>\n",
       "      <td>1322376.3</td>\n",
       "      <td>30.063936</td>\n",
       "      <td>-81.707664</td>\n",
       "      <td>Residential</td>\n",
       "      <td>Masonry</td>\n",
       "      <td>3</td>\n",
       "    </tr>\n",
       "    <tr>\n",
       "      <th>2</th>\n",
       "      <td>CLAY COUNTY</td>\n",
       "      <td>190724.4</td>\n",
       "      <td>190724.4</td>\n",
       "      <td>30.089579</td>\n",
       "      <td>-81.700455</td>\n",
       "      <td>Residential</td>\n",
       "      <td>Wood</td>\n",
       "      <td>1</td>\n",
       "    </tr>\n",
       "  </tbody>\n",
       "</table>\n",
       "</div>"
      ],
      "text/plain": [
       "        county  eq_site_limit  hu_site_limit  point_latitude  point_longitude  \\\n",
       "0  CLAY COUNTY       498960.0       498960.0       30.102261       -81.711777   \n",
       "1  CLAY COUNTY      1322376.3      1322376.3       30.063936       -81.707664   \n",
       "2  CLAY COUNTY       190724.4       190724.4       30.089579       -81.700455   \n",
       "\n",
       "          line construction  point_granularity  \n",
       "0  Residential      Masonry                  1  \n",
       "1  Residential      Masonry                  3  \n",
       "2  Residential         Wood                  1  "
      ]
     },
     "execution_count": 22,
     "metadata": {},
     "output_type": "execute_result"
    }
   ],
   "source": [
    "pom.head()"
   ]
  },
  {
   "cell_type": "code",
   "execution_count": 23,
   "id": "711db173",
   "metadata": {},
   "outputs": [],
   "source": [
    "pom2=podatoci[3:4]"
   ]
  },
  {
   "cell_type": "code",
   "execution_count": 24,
   "id": "42727a88",
   "metadata": {},
   "outputs": [
    {
     "data": {
      "text/html": [
       "<div>\n",
       "<style scoped>\n",
       "    .dataframe tbody tr th:only-of-type {\n",
       "        vertical-align: middle;\n",
       "    }\n",
       "\n",
       "    .dataframe tbody tr th {\n",
       "        vertical-align: top;\n",
       "    }\n",
       "\n",
       "    .dataframe thead th {\n",
       "        text-align: right;\n",
       "    }\n",
       "</style>\n",
       "<table border=\"1\" class=\"dataframe\">\n",
       "  <thead>\n",
       "    <tr style=\"text-align: right;\">\n",
       "      <th></th>\n",
       "      <th>county</th>\n",
       "      <th>eq_site_limit</th>\n",
       "      <th>hu_site_limit</th>\n",
       "      <th>point_latitude</th>\n",
       "      <th>point_longitude</th>\n",
       "      <th>line</th>\n",
       "      <th>construction</th>\n",
       "      <th>point_granularity</th>\n",
       "    </tr>\n",
       "  </thead>\n",
       "  <tbody>\n",
       "    <tr>\n",
       "      <th>3</th>\n",
       "      <td>CLAY COUNTY</td>\n",
       "      <td>0.0</td>\n",
       "      <td>79520.76</td>\n",
       "      <td>30.063236</td>\n",
       "      <td>-81.707703</td>\n",
       "      <td>Residential</td>\n",
       "      <td>Wood</td>\n",
       "      <td>3</td>\n",
       "    </tr>\n",
       "  </tbody>\n",
       "</table>\n",
       "</div>"
      ],
      "text/plain": [
       "        county  eq_site_limit  hu_site_limit  point_latitude  point_longitude  \\\n",
       "3  CLAY COUNTY            0.0       79520.76       30.063236       -81.707703   \n",
       "\n",
       "          line construction  point_granularity  \n",
       "3  Residential         Wood                  3  "
      ]
     },
     "execution_count": 24,
     "metadata": {},
     "output_type": "execute_result"
    }
   ],
   "source": [
    "pom2.head()"
   ]
  },
  {
   "cell_type": "code",
   "execution_count": 34,
   "id": "8970579b",
   "metadata": {},
   "outputs": [],
   "source": [
    "vidi=podatoci['point_latitude']"
   ]
  },
  {
   "cell_type": "code",
   "execution_count": 35,
   "id": "35eef06f",
   "metadata": {},
   "outputs": [
    {
     "data": {
      "text/plain": [
       "0       30.102261\n",
       "1       30.063936\n",
       "2       30.089579\n",
       "3       30.063236\n",
       "4       30.060614\n",
       "          ...    \n",
       "1171    29.903500\n",
       "1172    29.903500\n",
       "1173    29.903500\n",
       "1174    29.903500\n",
       "1175    29.903500\n",
       "Name: point_latitude, Length: 1176, dtype: float64"
      ]
     },
     "execution_count": 35,
     "metadata": {},
     "output_type": "execute_result"
    }
   ],
   "source": [
    "vidi\n",
    "\n"
   ]
  },
  {
   "cell_type": "code",
   "execution_count": 36,
   "id": "c8cb9592",
   "metadata": {},
   "outputs": [],
   "source": [
    "pak=podatoci['point_longitude']"
   ]
  },
  {
   "cell_type": "code",
   "execution_count": 37,
   "id": "ef7b2c28",
   "metadata": {},
   "outputs": [
    {
     "data": {
      "text/plain": [
       "<Figure size 432x288 with 0 Axes>"
      ]
     },
     "metadata": {},
     "output_type": "display_data"
    }
   ],
   "source": [
    "fig=plt.figure()\n"
   ]
  },
  {
   "cell_type": "code",
   "execution_count": 38,
   "id": "f3c21f91",
   "metadata": {},
   "outputs": [],
   "source": [
    "myaxes=fig.add_axes([0.1,0.1,1.6,1.6])"
   ]
  },
  {
   "cell_type": "code",
   "execution_count": 42,
   "id": "276ebcb9",
   "metadata": {},
   "outputs": [
    {
     "data": {
      "text/plain": [
       "[<matplotlib.lines.Line2D at 0x7fdc210f1fa0>]"
      ]
     },
     "execution_count": 42,
     "metadata": {},
     "output_type": "execute_result"
    },
    {
     "data": {
      "image/png": "[encoded data removed]",
      "text/plain": [
       "<Figure size 432x288 with 1 Axes>"
      ]
     },
     "metadata": {
      "needs_background": "light"
     },
     "output_type": "display_data"
    }
   ],
   "source": [
    "plt.plot(vidi,pak)"
   ]
  },
  {
   "cell_type": "code",
   "execution_count": null,
   "id": "d02aa763",
   "metadata": {},
   "outputs": [],
   "source": []
  }
 ],
 "metadata": {
  "kernelspec": {
   "display_name": "Python 3 (ipykernel)",
   "language": "python",
   "name": "python3"
  },
  "language_info": {
   "codemirror_mode": {
    "name": "ipython",
    "version": 3
   },
   "file_extension": ".py",
   "mimetype": "text/x-python",
   "name": "python",
   "nbconvert_exporter": "python",
   "pygments_lexer": "ipython3",
   "version": "3.9.7"
  }
 },
 "nbformat": 4,
 "nbformat_minor": 5
}
